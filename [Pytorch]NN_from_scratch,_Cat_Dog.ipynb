{
  "nbformat": 4,
  "nbformat_minor": 0,
  "metadata": {
    "colab": {
      "name": "[Pytorch]NN from scratch, Cat Dog",
      "version": "0.3.2",
      "provenance": [],
      "collapsed_sections": [],
      "include_colab_link": true
    },
    "kernelspec": {
      "name": "python3",
      "display_name": "Python 3"
    },
    "accelerator": "GPU"
  },
  "cells": [
    {
      "cell_type": "markdown",
      "metadata": {
        "id": "view-in-github",
        "colab_type": "text"
      },
      "source": [
        "<a href=\"https://colab.research.google.com/github/shashigharti/secure-privateai-scholarship-challenge/blob/master/%5BPytorch%5DNN_from_scratch%2C_Cat_Dog.ipynb\" target=\"_parent\"><img src=\"https://colab.research.google.com/assets/colab-badge.svg\" alt=\"Open In Colab\"/></a>"
      ]
    },
    {
      "cell_type": "code",
      "metadata": {
        "id": "MFBawKFxtOnz",
        "colab_type": "code",
        "colab": {}
      },
      "source": [
        "!pip install -q kaggle"
      ],
      "execution_count": 0,
      "outputs": []
    },
    {
      "cell_type": "code",
      "metadata": {
        "id": "inUE4G0btVIL",
        "colab_type": "code",
        "colab": {}
      },
      "source": [
        "!mkdir -p ~/.kaggle"
      ],
      "execution_count": 0,
      "outputs": []
    },
    {
      "cell_type": "code",
      "metadata": {
        "id": "QJkUUoSBtXOX",
        "colab_type": "code",
        "colab": {}
      },
      "source": [
        "!cp kaggle.json ~/.kaggle/"
      ],
      "execution_count": 0,
      "outputs": []
    },
    {
      "cell_type": "code",
      "metadata": {
        "id": "X8yv3B7wtetR",
        "colab_type": "code",
        "colab": {}
      },
      "source": [
        "!chmod 600 /root/.kaggle/kaggle.json"
      ],
      "execution_count": 0,
      "outputs": []
    },
    {
      "cell_type": "code",
      "metadata": {
        "id": "9IfuGIUpthZa",
        "colab_type": "code",
        "outputId": "6ae3f212-e844-4115-fe75-11bf39a07fb8",
        "colab": {
          "base_uri": "https://localhost:8080/",
          "height": 136
        }
      },
      "source": [
        "!kaggle competitions download -c dogs-vs-cats"
      ],
      "execution_count": 0,
      "outputs": [
        {
          "output_type": "stream",
          "text": [
            "Downloading sampleSubmission.csv to /content\n",
            "\r  0% 0.00/86.8k [00:00<?, ?B/s]\n",
            "\r100% 86.8k/86.8k [00:00<00:00, 78.1MB/s]\n",
            "test1.zip: Skipping, found more recently modified local copy (use --force to force download)\n",
            "Downloading train.zip to /content\n",
            " 99% 540M/543M [00:04<00:00, 50.8MB/s]\n",
            "100% 543M/543M [00:04<00:00, 136MB/s] \n"
          ],
          "name": "stdout"
        }
      ]
    },
    {
      "cell_type": "code",
      "metadata": {
        "id": "1pTYA4kMtqk5",
        "colab_type": "code",
        "colab": {}
      },
      "source": [
        "!rm -rf /content/data\n",
        "!rm -rf /content/test1\n",
        "!rm -rf /content/train"
      ],
      "execution_count": 0,
      "outputs": []
    },
    {
      "cell_type": "code",
      "metadata": {
        "id": "tgRWGEsEtuSa",
        "colab_type": "code",
        "colab": {}
      },
      "source": [
        "!mkdir data\n",
        "!mkdir /content/data/Cat_Dog_data\n",
        "!mv /content/train.zip /content/data/\n",
        "!mv /content/sampleSubmission.csv /content/data/"
      ],
      "execution_count": 0,
      "outputs": []
    },
    {
      "cell_type": "code",
      "metadata": {
        "id": "gg6ouV1QveIj",
        "colab_type": "code",
        "colab": {}
      },
      "source": [
        "!unzip /content/data/train.zip -d /content/data/"
      ],
      "execution_count": 0,
      "outputs": []
    },
    {
      "cell_type": "code",
      "metadata": {
        "id": "4l0lmpR7v7fg",
        "colab_type": "code",
        "outputId": "ba0361a0-202a-4f12-bd44-f32400209395",
        "colab": {
          "base_uri": "https://localhost:8080/",
          "height": 51
        }
      },
      "source": [
        "# check\n",
        "!find /content/data/train/ -type f -name 'cat*' | wc -l # 12500\n",
        "!find /content/data/train/ -type f -name 'dog*' | wc -l # 12500"
      ],
      "execution_count": 0,
      "outputs": [
        {
          "output_type": "stream",
          "text": [
            "12500\n",
            "12500\n"
          ],
          "name": "stdout"
        }
      ]
    },
    {
      "cell_type": "code",
      "metadata": {
        "id": "wYh4cu2Dv9mh",
        "colab_type": "code",
        "colab": {}
      },
      "source": [
        "#Make cat dog directories\n",
        "!mkdir -p /content/data/Cat_Dog_data/train/dog\n",
        "!mkdir -p /content/data/Cat_Dog_data/train/cat\n",
        "!mkdir -p /content/data/Cat_Dog_data/val/dog\n",
        "!mkdir -p /content/data/Cat_Dog_data/val/cat"
      ],
      "execution_count": 0,
      "outputs": []
    },
    {
      "cell_type": "code",
      "metadata": {
        "id": "goGsruwbwMDk",
        "colab_type": "code",
        "colab": {}
      },
      "source": [
        "!find /content/data/train -name 'cat*' -type f | shuf -n12500 | xargs -I file mv file /content/data/Cat_Dog_data/train/cat\n",
        "!find /content/data/train -name 'cat*' -type f | xargs -I file mv file /content/data/Cat_Dog_data/val/cat"
      ],
      "execution_count": 0,
      "outputs": []
    },
    {
      "cell_type": "code",
      "metadata": {
        "id": "lZ_iA-k3wPUd",
        "colab_type": "code",
        "colab": {}
      },
      "source": [
        "!find /content/data/train -name 'dog*' -type f | shuf -n12500 | xargs -I file mv file /content/data/Cat_Dog_data/train/dog\n",
        "!find /content/data/train -type f -name 'dog*' | xargs -I file mv file /content/data/Cat_Dog_data/val/dog"
      ],
      "execution_count": 0,
      "outputs": []
    },
    {
      "cell_type": "code",
      "metadata": {
        "id": "FKmA96-0FXA1",
        "colab_type": "code",
        "colab": {}
      },
      "source": [
        "import torch\n",
        "from torch import nn, optim\n",
        "from torchvision import datasets, transforms\n",
        "import torch.nn.functional as F\n",
        "import helper"
      ],
      "execution_count": 0,
      "outputs": []
    },
    {
      "cell_type": "code",
      "metadata": {
        "id": "7VVgmavqFjNE",
        "colab_type": "code",
        "colab": {}
      },
      "source": [
        "#set data directory\n",
        "data_dir = '/content/data/Cat_Dog_data'\n",
        "train_dir = f'{data_dir}/train'\n",
        "validation_dir = f'{data_dir}/val'"
      ],
      "execution_count": 0,
      "outputs": []
    },
    {
      "cell_type": "code",
      "metadata": {
        "id": "8a4XO3pPcOci",
        "colab_type": "code",
        "colab": {}
      },
      "source": [
        "#create a new transform\n",
        "train_transforms = transforms.Compose([\n",
        "    transforms.RandomRotation(30), # do random rotation\n",
        "    transforms.RandomResizedCrop(224), #crop image size\n",
        "    transforms.RandomHorizontalFlip(), # add horizontal flip\n",
        "    transforms.ToTensor(),\n",
        "    transforms.Normalize((0.5, ), (0.5, ))\n",
        "])\n",
        "\n",
        "test_transforms = transforms.Compose([\n",
        "    transforms.Resize(255),\n",
        "    transforms.CenterCrop(224),\n",
        "    transforms.ToTensor(),\n",
        "    transforms.Normalize((0.5, ), (0.5, ))\n",
        "])\n",
        "\n",
        "train_dataset = datasets.ImageFolder(train_dir, transform = train_transforms)\n",
        "trainloader = torch.utils.data.DataLoader(train_dataset, batch_size = 64, shuffle = True)\n",
        "\n",
        "validation_dataset = datasets.ImageFolder(validation_dir, transform = test_transforms)\n",
        "validationloader = torch.utils.data.DataLoader(validation_dataset, batch_size = 64, shuffle = True)"
      ],
      "execution_count": 0,
      "outputs": []
    },
    {
      "cell_type": "code",
      "metadata": {
        "id": "z1B1HI8Syj3D",
        "colab_type": "code",
        "colab": {}
      },
      "source": [
        "%matplotlib inline\n",
        "%config InlineBackend.figure_format = 'retina'\n",
        "import matplotlib.pyplot as plt"
      ],
      "execution_count": 0,
      "outputs": []
    },
    {
      "cell_type": "code",
      "metadata": {
        "id": "YEE--z1KevzY",
        "colab_type": "code",
        "colab": {}
      },
      "source": [
        "images, labels = next(iter(trainloader))\n",
        "fig, axes = plt.subplots(figsize=(15,15), ncols=5)\n",
        "for ii in range(5):\n",
        "  helper.imshow(images[ii], ax=axes[ii], normalize=False)\n"
      ],
      "execution_count": 0,
      "outputs": []
    },
    {
      "cell_type": "code",
      "metadata": {
        "id": "0zdA_RH92kDL",
        "colab_type": "code",
        "colab": {}
      },
      "source": [
        "class Network(nn.Module):\n",
        "  def __init__(self):\n",
        "    super().__init__()\n",
        "    \n",
        "    self.fc1 = nn.Linear(150528, 512)\n",
        "    self.fc2 = nn.Linear(512, 256)\n",
        "    self.fc3 = nn.Linear(256, 64)\n",
        "    self.fc4 = nn.Linear(64, 10)\n",
        "    \n",
        "    self.dropout = nn.Dropout(p=0.2)\n",
        "    \n",
        "  def forward(self, x):\n",
        "    #Flatten the image\n",
        "    x = x.view(x.shape[0], -1)\n",
        "       \n",
        "    \n",
        "    x = self.dropout(F.relu(self.fc1(x)))\n",
        "    x = self.dropout(F.relu(self.fc2(x)))\n",
        "    x = self.dropout(F.relu(self.fc3(x)))\n",
        "    x = F.log_softmax(self.fc4(x), dim = 1)\n",
        "    \n",
        "    return x\n",
        "model = Network()"
      ],
      "execution_count": 0,
      "outputs": []
    },
    {
      "cell_type": "code",
      "metadata": {
        "id": "ZpOk4sAU0wiM",
        "colab_type": "code",
        "colab": {}
      },
      "source": [
        "epochs = 5\n",
        "optimizer = optim.Adam(model.parameters(), lr=0.003)\n",
        "criterion = nn.NLLLoss()\n",
        "\n",
        "validation_losses, training_losses = [],[]\n",
        "for epoch in range(epochs):\n",
        "  training_loss = 0\n",
        "  validation_loss = 0\n",
        "  accuracy = 0\n",
        "  \n",
        "  for images, labels in trainloader:\n",
        "    optimizer.zero_grad() #donot remember previous grad\n",
        "    log_ps = model(images)\n",
        "    loss = criterion(log_ps, labels)\n",
        "    loss.backward() #calculate gradient\n",
        "    optimizer.step() #update weights\n",
        "    \n",
        "    training_loss += loss.item()\n",
        "  print(\"Training Loss:{:.3f}\", (training_loss/len(trainloader)))\n",
        "    \n",
        "    \n",
        "    \n",
        "\n"
      ],
      "execution_count": 0,
      "outputs": []
    },
    {
      "cell_type": "code",
      "metadata": {
        "id": "5kny2-Y8p3OQ",
        "colab_type": "code",
        "colab": {}
      },
      "source": [
        "#obtain training indices that will be used for  validation\n",
        "num_train = len(train_dataset)\n",
        "#get the indices\n",
        "indices = list(range(num_train))"
      ],
      "execution_count": 0,
      "outputs": []
    }
  ]
}