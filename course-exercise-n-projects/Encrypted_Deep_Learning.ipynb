{
  "nbformat": 4,
  "nbformat_minor": 0,
  "metadata": {
    "colab": {
      "name": "Encrypted Deep Learning.ipynb",
      "version": "0.3.2",
      "provenance": [],
      "include_colab_link": true
    },
    "kernelspec": {
      "name": "python3",
      "display_name": "Python 3"
    }
  },
  "cells": [
    {
      "cell_type": "markdown",
      "metadata": {
        "id": "view-in-github",
        "colab_type": "text"
      },
      "source": [
        "<a href=\"https://colab.research.google.com/github/shashigharti/secure-privateai-scholarship-challenge/blob/master/course-exercise-n-projects/Encrypted_Deep_Learning.ipynb\" target=\"_parent\"><img src=\"https://colab.research.google.com/assets/colab-badge.svg\" alt=\"Open In Colab\"/></a>"
      ]
    },
    {
      "cell_type": "code",
      "metadata": {
        "id": "P1KgFqMQRBLX",
        "colab_type": "code",
        "colab": {}
      },
      "source": [
        "!pip install syft"
      ],
      "execution_count": 0,
      "outputs": []
    },
    {
      "cell_type": "code",
      "metadata": {
        "id": "-67Xn0XYuRSJ",
        "colab_type": "code",
        "colab": {}
      },
      "source": [
        "import string\n",
        "import torch as th\n",
        "import syft as sy"
      ],
      "execution_count": 0,
      "outputs": []
    },
    {
      "cell_type": "code",
      "metadata": {
        "id": "seK5-lB_55sa",
        "colab_type": "code",
        "colab": {}
      },
      "source": [
        "char2index = {}\n",
        "index2char = {}\n",
        "hook = sy.TorchHook(th)"
      ],
      "execution_count": 0,
      "outputs": []
    },
    {
      "cell_type": "code",
      "metadata": {
        "id": "gWN9w4DBXsZF",
        "colab_type": "code",
        "colab": {}
      },
      "source": [
        "#create three workers\n",
        "bob = sy.VirtualWorker(hook, id=\"bob\").add_worker(sy.local_worker)\n",
        "alice = sy.VirtualWorker(hook, id=\"alice\").add_worker(sy.local_worker)\n",
        "secure_worker = sy.VirtualWorker(hook, id=\"secure_worker\").add_worker(sy.local_worker)"
      ],
      "execution_count": 0,
      "outputs": []
    },
    {
      "cell_type": "code",
      "metadata": {
        "id": "epZYjra96B7d",
        "colab_type": "code",
        "colab": {}
      },
      "source": [
        "for i,char in enumerate(' ' + string.ascii_lowercase + '0123456789' + string.punctuation):\n",
        "  char2index[char] = i\n",
        "  index2char[i] = char"
      ],
      "execution_count": 0,
      "outputs": []
    },
    {
      "cell_type": "code",
      "metadata": {
        "id": "1eJq6Qkg6wSt",
        "colab_type": "code",
        "colab": {}
      },
      "source": [
        "char2int"
      ],
      "execution_count": 0,
      "outputs": []
    },
    {
      "cell_type": "code",
      "metadata": {
        "id": "C6zLD9Q7pRGd",
        "colab_type": "code",
        "colab": {}
      },
      "source": [
        "int2char"
      ],
      "execution_count": 0,
      "outputs": []
    },
    {
      "cell_type": "code",
      "metadata": {
        "id": "g_0uF9Y3ptKt",
        "colab_type": "code",
        "colab": {}
      },
      "source": [
        "def string2values(str_input, max_len = 8):\n",
        "  max_len = 8\n",
        "\n",
        "  str_input = str_input[:max_len].lower()\n",
        "\n",
        "  if(len(str_input) < max_len):\n",
        "    str_input = str_input + \".\" * (max_len - len(str_input))\n",
        "  values = list()\n",
        "  for char in str_input:\n",
        "    values.append(char2int[char])\n",
        "  return th.tensor(values).long()\n",
        "\n",
        "def values2string(input_values):\n",
        "  s = \"\"\n",
        "  for value in input_values:\n",
        "    s += int2char[int(value)]\n",
        "  return s"
      ],
      "execution_count": 0,
      "outputs": []
    },
    {
      "cell_type": "code",
      "metadata": {
        "id": "qpgJSonesHWG",
        "colab_type": "code",
        "colab": {
          "base_uri": "https://localhost:8080/",
          "height": 34
        },
        "outputId": "0ddd2ff2-f58e-4367-d27d-bea9d2d736b2"
      },
      "source": [
        "string2values(\"Howdy\")"
      ],
      "execution_count": 294,
      "outputs": [
        {
          "output_type": "execute_result",
          "data": {
            "text/plain": [
              "tensor([ 8, 15, 23,  4, 25, 50, 50, 50])"
            ]
          },
          "metadata": {
            "tags": []
          },
          "execution_count": 294
        }
      ]
    },
    {
      "cell_type": "code",
      "metadata": {
        "id": "iHzn99r3xP_r",
        "colab_type": "code",
        "colab": {}
      },
      "source": [
        "def one_hot(index, length):\n",
        "  vect = th.zeros(length).long()\n",
        "  vect[index] = 1\n",
        "  return vect"
      ],
      "execution_count": 0,
      "outputs": []
    },
    {
      "cell_type": "code",
      "metadata": {
        "id": "J4aKG6I140M4",
        "colab_type": "code",
        "colab": {}
      },
      "source": [
        "def strings_equal(str_a, str_b):\n",
        "  vect = (str_a * str_b).sum(1)\n",
        "  x = vect[0]\n",
        "  for i in range(vect.shape[0] - 1):\n",
        "    x = x * vect[i + 1]\n",
        "\n",
        "  return x"
      ],
      "execution_count": 0,
      "outputs": []
    },
    {
      "cell_type": "code",
      "metadata": {
        "id": "YjjPjVYGxgTa",
        "colab_type": "code",
        "colab": {}
      },
      "source": [
        "def string2one_hot_matrix(str_input, max_len = 8):\n",
        "  str_input = str_input[:max_len].lower()\n",
        "  \n",
        "  #pad strings shorter than max length\n",
        "  if(len(str_input) < max_len):\n",
        "    str_input = str_input + \".\" * (max_len - len(str_input))\n",
        "    \n",
        "  char_vectors = list()\n",
        "  for char in str_input:\n",
        "    char_v = one_hot(char2int[char], len(int2char)).unsqueeze(0)\n",
        "    char_vectors.append(char_v)\n",
        "    \n",
        "  return th.cat(char_vectors, dim = 0)"
      ],
      "execution_count": 0,
      "outputs": []
    },
    {
      "cell_type": "code",
      "metadata": {
        "id": "1F6bKwDK7k9M",
        "colab_type": "code",
        "colab": {}
      },
      "source": [
        "keys = list()\n",
        "values = list()\n",
        "keys.append(string2one_hot_matrix(\"key1\"))\n",
        "values.append(string2values(\"value1\"))\n",
        "\n",
        "keys.append(string2one_hot_matrix(\"key2\"))\n",
        "keys.append(string2values(\"value2\"))\n"
      ],
      "execution_count": 0,
      "outputs": []
    },
    {
      "cell_type": "code",
      "metadata": {
        "id": "wmXaXvqo8WSU",
        "colab_type": "code",
        "colab": {}
      },
      "source": [
        "def query(query_str):\n",
        "  query_matrix = string2one_hot_matrix(query_str)\n",
        "  key_matches = list()\n",
        "  for key in keys:\n",
        "    key_match = strings_equal(key, query_matrix)\n",
        "    key_matches.append(key_match)\n",
        "\n",
        "  result = values[0] * key_matches[0]\n",
        "\n",
        "  for i in range(len(values) - 1):\n",
        "    result += values[i+1] * key_matches[i+1]\n",
        "    \n",
        "  return values2string(result).replace(\".\",\"\")"
      ],
      "execution_count": 0,
      "outputs": []
    },
    {
      "cell_type": "code",
      "metadata": {
        "id": "4uRCY0i-G-nR",
        "colab_type": "code",
        "colab": {}
      },
      "source": [
        "query(\"key1\")"
      ],
      "execution_count": 0,
      "outputs": []
    },
    {
      "cell_type": "code",
      "metadata": {
        "id": "cCJAoE_lIPhQ",
        "colab_type": "code",
        "colab": {}
      },
      "source": [
        "class EncryptedDB:\n",
        "  \n",
        "  def __init__(self, *owners, max_key_len = 8, max_val_len = 8):    \n",
        "    self.max_key_len = 8\n",
        "    self.max_val_len = 8 \n",
        "    \n",
        "    self.keys = list()\n",
        "    self.values = list()\n",
        "    self.owners = owners\n",
        "    \n",
        "  def add_entry(self, key, value):\n",
        "    key = string2one_hot_matrix(key)\n",
        "    key = key.share(*self.owners)\n",
        "    self.keys.append(key)\n",
        "    \n",
        "    value = string2values(value)\n",
        "    value = value.share(*self.owners)\n",
        "    self.values.append(value)\n",
        "    \n",
        "  def query(self, query_str):    \n",
        "    query_matrix = string2one_hot_matrix(query_str)\n",
        "    query_matrix = query_matrix.share(*self.owners)\n",
        "    \n",
        "    key_matches = list()\n",
        "    for key in self.keys:\n",
        "      \n",
        "      key_match = strings_equal(key, query_matrix)\n",
        "      key_matches.append(key_match)\n",
        "\n",
        "    result = self.values[0] * key_matches[0]\n",
        "\n",
        "    for i in range(len(self.values) - 1):\n",
        "      result += self.values[i+1] * key_matches[i+1]\n",
        "\n",
        "    result =  result.get()\n",
        "    \n",
        "    return values2string(result).replace(\".\",\"\")\n",
        "  \n",
        "  "
      ],
      "execution_count": 0,
      "outputs": []
    },
    {
      "cell_type": "code",
      "metadata": {
        "id": "zBw34hUkJKFz",
        "colab_type": "code",
        "colab": {}
      },
      "source": [
        "db = EncryptedDB(bob, alice, secure_worker)\n",
        "db.add_entry(\"key1\", \"value1\")\n",
        "db.add_entry(\"key2\", \"value2\")\n",
        "db.add_entry(\"key3\", \"value3\")\n",
        "db.add_entry(\"key4\", \"value4\")"
      ],
      "execution_count": 0,
      "outputs": []
    },
    {
      "cell_type": "code",
      "metadata": {
        "id": "5cpOKColYDvY",
        "colab_type": "code",
        "colab": {
          "base_uri": "https://localhost:8080/",
          "height": 34
        },
        "outputId": "20b3653e-f46e-4a77-ef69-be49940e19c5"
      },
      "source": [
        "db.query(\"key1\")"
      ],
      "execution_count": 306,
      "outputs": [
        {
          "output_type": "execute_result",
          "data": {
            "text/plain": [
              "'value1'"
            ]
          },
          "metadata": {
            "tags": []
          },
          "execution_count": 306
        }
      ]
    }
  ]
}