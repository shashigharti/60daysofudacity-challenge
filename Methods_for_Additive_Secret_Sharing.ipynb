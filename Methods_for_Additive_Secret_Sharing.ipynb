{
  "nbformat": 4,
  "nbformat_minor": 0,
  "metadata": {
    "colab": {
      "name": "Methods for Additive Secret Sharing",
      "version": "0.3.2",
      "provenance": [],
      "include_colab_link": true
    },
    "kernelspec": {
      "name": "python3",
      "display_name": "Python 3"
    }
  },
  "cells": [
    {
      "cell_type": "markdown",
      "metadata": {
        "id": "view-in-github",
        "colab_type": "text"
      },
      "source": [
        "<a href=\"https://colab.research.google.com/github/shashigharti/60daysofudacity-challenge/blob/master/Methods_for_Additive_Secret_Sharing.ipynb\" target=\"_parent\"><img src=\"https://colab.research.google.com/assets/colab-badge.svg\" alt=\"Open In Colab\"/></a>"
      ]
    },
    {
      "cell_type": "markdown",
      "metadata": {
        "id": "TkT2v2LoJcdi",
        "colab_type": "text"
      },
      "source": [
        "Additive Secret Sharing"
      ]
    },
    {
      "cell_type": "code",
      "metadata": {
        "id": "5fxmqr_KI-Wz",
        "colab_type": "code",
        "colab": {}
      },
      "source": [
        "import random"
      ],
      "execution_count": 0,
      "outputs": []
    },
    {
      "cell_type": "code",
      "metadata": {
        "id": "UKo53NilJSBx",
        "colab_type": "code",
        "colab": {}
      },
      "source": [
        "Q = 2345678909984772388"
      ],
      "execution_count": 0,
      "outputs": []
    },
    {
      "cell_type": "code",
      "metadata": {
        "id": "jjbYb39BIM0m",
        "colab_type": "code",
        "colab": {}
      },
      "source": [
        "def encrypt(x, n_shares = 3):\n",
        "  shares = list()\n",
        "\n",
        "  for i in range(n_shares - 1):\n",
        "    shares.append(random.randint(0,Q))\n",
        "\n",
        "  final_share = Q - (sum(shares) % Q) + x\n",
        "  shares.append(final_share)\n",
        "  \n",
        "  return tuple(shares)"
      ],
      "execution_count": 0,
      "outputs": []
    },
    {
      "cell_type": "code",
      "metadata": {
        "id": "5w5FxfjmUdS8",
        "colab_type": "code",
        "colab": {}
      },
      "source": [
        "def decrypt(shares):\n",
        "  return sum(shares) % Q\n",
        "  "
      ],
      "execution_count": 0,
      "outputs": []
    },
    {
      "cell_type": "code",
      "metadata": {
        "id": "E_CZcs-LWvzK",
        "colab_type": "code",
        "colab": {
          "base_uri": "https://localhost:8080/",
          "height": 34
        },
        "outputId": "81c321de-6c49-4ddb-88f8-a11d61cee0fb"
      },
      "source": [
        "decrypt(encrypt(5))"
      ],
      "execution_count": 53,
      "outputs": [
        {
          "output_type": "execute_result",
          "data": {
            "text/plain": [
              "5"
            ]
          },
          "metadata": {
            "tags": []
          },
          "execution_count": 53
        }
      ]
    },
    {
      "cell_type": "code",
      "metadata": {
        "id": "moQxGMccXRTH",
        "colab_type": "code",
        "colab": {}
      },
      "source": [
        "def add(a, b):\n",
        "  c = list()\n",
        "  assert(len(a) == len(b))\n",
        "  for i in range(len(a)):\n",
        "    c.append((a[i] + b[i]) % Q)\n",
        "    \n",
        "  return tuple(c)"
      ],
      "execution_count": 0,
      "outputs": []
    },
    {
      "cell_type": "code",
      "metadata": {
        "id": "iGt3dUeMX2yQ",
        "colab_type": "code",
        "colab": {
          "base_uri": "https://localhost:8080/",
          "height": 34
        },
        "outputId": "8a634f62-b5bd-4124-d22d-cf831caf9c82"
      },
      "source": [
        "decrypt(add(encrypt(5), encrypt(10)))"
      ],
      "execution_count": 56,
      "outputs": [
        {
          "output_type": "execute_result",
          "data": {
            "text/plain": [
              "15"
            ]
          },
          "metadata": {
            "tags": []
          },
          "execution_count": 56
        }
      ]
    },
    {
      "cell_type": "code",
      "metadata": {
        "id": "h-28HPwBYscE",
        "colab_type": "code",
        "colab": {
          "base_uri": "https://localhost:8080/",
          "height": 34
        },
        "outputId": "8da7a09c-44c7-4b73-a172-fbfae14e55c0"
      },
      "source": [
        "x = encrypt(50)\n",
        "x"
      ],
      "execution_count": 59,
      "outputs": [
        {
          "output_type": "execute_result",
          "data": {
            "text/plain": [
              "(1612209693257557691, 1546130699585544470, 1533017427126442665)"
            ]
          },
          "metadata": {
            "tags": []
          },
          "execution_count": 59
        }
      ]
    },
    {
      "cell_type": "code",
      "metadata": {
        "id": "g5YqO6l6Yskd",
        "colab_type": "code",
        "colab": {
          "base_uri": "https://localhost:8080/",
          "height": 34
        },
        "outputId": "a61a445e-27d3-4425-d72d-237dc0961ce7"
      },
      "source": [
        "y = encrypt(20)\n",
        "y"
      ],
      "execution_count": 60,
      "outputs": [
        {
          "output_type": "execute_result",
          "data": {
            "text/plain": [
              "(2183988328854841252, 176212675139370132, 2331156815975333412)"
            ]
          },
          "metadata": {
            "tags": []
          },
          "execution_count": 60
        }
      ]
    },
    {
      "cell_type": "code",
      "metadata": {
        "id": "P9I4S-x9Yso4",
        "colab_type": "code",
        "colab": {
          "base_uri": "https://localhost:8080/",
          "height": 119
        },
        "outputId": "d0bc2e2f-d558-49fe-ddb9-f539b9b668de"
      },
      "source": [
        "z = x + y\n",
        "z"
      ],
      "execution_count": 61,
      "outputs": [
        {
          "output_type": "execute_result",
          "data": {
            "text/plain": [
              "(1612209693257557691,\n",
              " 1546130699585544470,\n",
              " 1533017427126442665,\n",
              " 2183988328854841252,\n",
              " 176212675139370132,\n",
              " 2331156815975333412)"
            ]
          },
          "metadata": {
            "tags": []
          },
          "execution_count": 61
        }
      ]
    },
    {
      "cell_type": "code",
      "metadata": {
        "id": "IMXVCvUgY3XG",
        "colab_type": "code",
        "colab": {
          "base_uri": "https://localhost:8080/",
          "height": 34
        },
        "outputId": "74a07a73-d33c-4e84-de17-9126fef57035"
      },
      "source": [
        "decrypt(z)"
      ],
      "execution_count": 62,
      "outputs": [
        {
          "output_type": "execute_result",
          "data": {
            "text/plain": [
              "70"
            ]
          },
          "metadata": {
            "tags": []
          },
          "execution_count": 62
        }
      ]
    }
  ]
}